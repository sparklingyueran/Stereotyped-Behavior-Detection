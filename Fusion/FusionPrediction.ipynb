{
 "cells": [
  {
   "cell_type": "code",
   "execution_count": null,
   "id": "ce3f902f",
   "metadata": {},
   "outputs": [],
   "source": [
    "import os\n",
    "import joblib\n",
    "import numpy as np\n",
    "import pandas as pd\n",
    "from sklearn.metrics import roc_curve, auc, confusion_matrix, accuracy_score"
   ]
  },
  {
   "cell_type": "markdown",
   "id": "269742a1",
   "metadata": {},
   "source": [
    "## 1.Path"
   ]
  },
  {
   "cell_type": "code",
   "execution_count": null,
   "id": "e98bd659",
   "metadata": {},
   "outputs": [],
   "source": []
  },
  {
   "cell_type": "code",
   "execution_count": null,
   "id": "65eaceff",
   "metadata": {},
   "outputs": [],
   "source": [
    "model_type = model_path.split('_')[-1][:-4]\n",
    "window_size = int(WIN_OVER[0])\n",
    "csv_save_path = '...'.format(WIN_OVER,model_type)\n",
    "grouped_data_save_path = '...'.format(window_size,model_type)\n",
    "\n",
    "S_DATA_ROOT = '...'\n",
    "S_GROUP_NAME = '...'.format(WIN_OVER)\n",
    "S_txt_file = os.path.join(S_DATA_ROOT,S_GROUP_NAME+'-label.txt') \n",
    "S_feature_save_folder = os.path.join(S_DATA_ROOT,S_GROUP_NAME+'-eilev-feature')\n",
    "\n",
    "SP_DATA_ROOT = '...'\n",
    "SP_GROUP_NAME = '...'.format(WIN_OVER)\n",
    "SP_txt_file = os.path.join(SP_DATA_ROOT,SP_GROUP_NAME+'-label.txt') \n",
    "SP_feature_save_folder = os.path.join(SP_DATA_ROOT,SP_GROUP_NAME+'-eilev-feature')\n",
    "csv_save_path"
   ]
  },
  {
   "cell_type": "code",
   "execution_count": null,
   "id": "3ce9c977",
   "metadata": {},
   "outputs": [],
   "source": [
    "S_true_NAME = '...'\n",
    "S_true_txt_file = os.path.join(S_DATA_ROOT,S_true_NAME+'-label.txt')  \n",
    "\n",
    "SP_true_NAME = '...'\n",
    "SP_true_txt_file = os.path.join(SP_DATA_ROOT,SP_true_NAME+'-label.txt') "
   ]
  },
  {
   "cell_type": "markdown",
   "id": "d8341b38",
   "metadata": {},
   "source": [
    "## 2. feature_path,video_path,true_label"
   ]
  },
  {
   "cell_type": "code",
   "execution_count": null,
   "id": "5af0af8c",
   "metadata": {},
   "outputs": [],
   "source": [
    "import numpy as np\n",
    "import pandas as pd\n",
    "def load_data(txt_path, root_path):\n",
    "    features = []\n",
    "    labels = []\n",
    "    video_paths = []\n",
    "    feature_paths = []\n",
    "    with open(txt_path, 'r') as file:\n",
    "        lines = file.readlines()\n",
    "    \n",
    "    for line in lines:\n",
    "        video_path, video_label = line.strip().split()\n",
    "        \n",
    "        video_name = os.path.basename(video_path).replace('.mp4', '.npy')\n",
    "        feature_path = os.path.join(root_path, video_name)\n",
    "        \n",
    "        feature = np.load(feature_path)\n",
    "        \n",
    "        features.append(feature.flatten()) \n",
    "        labels.append(int(round(float(video_label))))\n",
    "        video_paths.append(video_path)\n",
    "        feature_paths.append(feature_path)\n",
    "    return np.array(features), np.array(labels), video_paths,feature_paths\n",
    "\n",
    "def merge_data(features1,labels1,video_paths1,feature_paths1,features2,labels2,video_paths2,feature_paths2):\n",
    "    features = np.vstack((features1, features2)) \n",
    "    labels = np.hstack((labels1, labels2))  \n",
    "    video_paths = video_paths1+video_paths2\n",
    "    feature_paths = feature_paths1+feature_paths2\n",
    "\n",
    "    return features, labels, video_paths, feature_paths"
   ]
  },
  {
   "cell_type": "code",
   "execution_count": null,
   "id": "bfa81eab",
   "metadata": {},
   "outputs": [],
   "source": [
    "features1, labels1 ,video_paths1,feature_paths1= load_data(S_txt_file, S_feature_save_folder)\n",
    "features2, labels2 ,video_paths2,feature_paths2= load_data(SP_txt_file, SP_feature_save_folder)\n",
    "\n",
    "\n",
    "merged_features,  merged_labels,  merged_video_paths, merged_feature_paths= merge_data(features1, labels1, video_paths1,feature_paths1,features2, labels2,video_paths2,feature_paths2)\n"
   ]
  },
  {
   "cell_type": "markdown",
   "id": "0bfbb951",
   "metadata": {},
   "source": [
    "## 3. Prediction"
   ]
  },
  {
   "cell_type": "code",
   "execution_count": null,
   "id": "2e2ff3ec",
   "metadata": {},
   "outputs": [],
   "source": [
    "def predict_with_model(features, model_path):\n",
    "    clf = joblib.load(model_path)\n",
    "    \n",
    "    predictions = clf.predict_proba(features)[:, 1]\n",
    "\n",
    "    return predictions\n",
    "\n",
    "def evaluate_predictions(true_labels, predictions):\n",
    "    fpr, tpr, _ = roc_curve(true_labels, predictions)\n",
    "    roc_auc = auc(fpr, tpr)\n",
    "    print(\"ROC_AUC\",roc_auc)\n",
    "    \n",
    "    predictions = [1 if avg >= 0.5 else 0 for avg in predictions]\n",
    "\n",
    "    cm = confusion_matrix(true_labels, predictions)\n",
    "    print(\"Confusion Matrix:\\n\", cm)\n",
    "    \n",
    "    accuracy = accuracy_score(true_labels, predictions)\n",
    "    print(f\"Accuracy: {accuracy * 100:.2f}%\")\n",
    "    \n",
    "    \n",
    "    return cm, accuracy,roc_auc\n"
   ]
  },
  {
   "cell_type": "code",
   "execution_count": null,
   "id": "7bf8e7ab",
   "metadata": {},
   "outputs": [],
   "source": [
    "win_predictions = predict_with_model(merged_features, model_path)\n",
    "cm, accuracy,roc_auc = evaluate_predictions(merged_labels, win_predictions)"
   ]
  },
  {
   "cell_type": "markdown",
   "id": "4f48fdf7",
   "metadata": {},
   "source": [
    "## 4. Window mean"
   ]
  },
  {
   "cell_type": "code",
   "execution_count": null,
   "id": "681fe11e",
   "metadata": {},
   "outputs": [],
   "source": [
    "data = {\n",
    "    'True':merged_labels,\n",
    "    'Video_Path':merged_video_paths,\n",
    "    'Feature_Path':merged_feature_paths,\n",
    "    'win_predictions':win_predictions\n",
    "}\n",
    "df = pd.DataFrame(data)"
   ]
  },
  {
   "cell_type": "code",
   "execution_count": null,
   "id": "f144262d",
   "metadata": {},
   "outputs": [],
   "source": [
    "df['video_id'] = df['Video_Path'].apply(lambda x: os.path.basename(os.path.dirname(x)))"
   ]
  },
  {
   "cell_type": "code",
   "execution_count": null,
   "id": "7b30b53e",
   "metadata": {},
   "outputs": [],
   "source": [
    "df.head()"
   ]
  },
  {
   "cell_type": "code",
   "execution_count": null,
   "id": "5153bf4f",
   "metadata": {},
   "outputs": [],
   "source": [
    "df.to_csv(csv_save_path, index=False)  \n",
    "df.head()"
   ]
  },
  {
   "cell_type": "code",
   "execution_count": null,
   "id": "fa8a06d4",
   "metadata": {},
   "outputs": [],
   "source": [
    "def sliding_window_mean(arr, window_size):\n",
    "    result = []\n",
    "    n = len(arr)\n",
    "    for i in range(n + window_size - 1):\n",
    "        window = arr[max(0, i + 1 - window_size):min(n, i + 1)]\n",
    "        mean_value = sum(window) / len(window)\n",
    "        result.append(mean_value)\n",
    "    return result"
   ]
  },
  {
   "cell_type": "code",
   "execution_count": null,
   "id": "b468a898",
   "metadata": {},
   "outputs": [],
   "source": [
    "grouped_data = df.groupby('video_id')['win_predictions'].apply(list).reset_index()\n",
    "\n",
    "\n",
    "grouped_data['win_mean'] = grouped_data['win_predictions'].apply(lambda x: sliding_window_mean(x, window_size))"
   ]
  },
  {
   "cell_type": "code",
   "execution_count": null,
   "id": "225f0776",
   "metadata": {},
   "outputs": [],
   "source": [
    "grouped_data.head()"
   ]
  },
  {
   "cell_type": "code",
   "execution_count": null,
   "id": "bda0d652",
   "metadata": {},
   "outputs": [],
   "source": [
    "grouped_data.tail()"
   ]
  },
  {
   "cell_type": "code",
   "execution_count": null,
   "id": "fc70e5bb",
   "metadata": {},
   "outputs": [],
   "source": [
    "\n",
    "def create_df_from_txt(file_path):\n",
    "    data = []\n",
    "    with open(file_path, 'r') as file:\n",
    "        for line in file:\n",
    "            path, label = line.strip().split() \n",
    "            data.append([path, label])\n",
    "    \n",
    "    df = pd.DataFrame(data, columns=['path', 'label'])\n",
    "    \n",
    "    df['last_folder'] = df['path'].apply(lambda x: os.path.basename(os.path.dirname(x)))\n",
    "    \n",
    "    return df\n"
   ]
  },
  {
   "cell_type": "code",
   "execution_count": null,
   "id": "970d1a83",
   "metadata": {},
   "outputs": [],
   "source": [
    "\n",
    "df_S = create_df_from_txt(S_true_txt_file)\n",
    "df_SP = create_df_from_txt(SP_true_txt_file)\n",
    "\n",
    "df_combined = pd.concat([df_S, df_SP], ignore_index=True)\n"
   ]
  },
  {
   "cell_type": "code",
   "execution_count": null,
   "id": "59b47ed4",
   "metadata": {},
   "outputs": [],
   "source": [
    "df_combined.head()"
   ]
  },
  {
   "cell_type": "code",
   "execution_count": null,
   "id": "1f7fa367",
   "metadata": {},
   "outputs": [],
   "source": [
    "\n",
    "label_lists = df_combined.groupby('last_folder')['label'].apply(list).reset_index()\n",
    "\n",
    "grouped_data = pd.merge(grouped_data, label_lists, left_on='video_id', right_on='last_folder', how='left')\n",
    "\n",
    "\n",
    "grouped_data = grouped_data.drop(columns=['last_folder'])\n"
   ]
  },
  {
   "cell_type": "code",
   "execution_count": null,
   "id": "894c4347",
   "metadata": {},
   "outputs": [],
   "source": [
    "grouped_data.to_csv(grouped_data_save_path, index=False)  \n",
    "grouped_data.head()"
   ]
  },
  {
   "cell_type": "code",
   "execution_count": null,
   "id": "9fe5e99d",
   "metadata": {},
   "outputs": [],
   "source": []
  }
 ],
 "metadata": {
  "kernelspec": {
   "display_name": "mass",
   "language": "python",
   "name": "mass"
  },
  "language_info": {
   "codemirror_mode": {
    "name": "ipython",
    "version": 3
   },
   "file_extension": ".py",
   "mimetype": "text/x-python",
   "name": "python",
   "nbconvert_exporter": "python",
   "pygments_lexer": "ipython3",
   "version": "3.8.19"
  }
 },
 "nbformat": 4,
 "nbformat_minor": 5
}
